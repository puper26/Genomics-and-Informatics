{
 "cells": [
  {
   "cell_type": "code",
   "execution_count": 1,
   "id": "86aa1d45",
   "metadata": {},
   "outputs": [
    {
     "name": "stdout",
     "output_type": "stream",
     "text": [
      "Requirement already satisfied: biopython in ./anaconda3/lib/python3.11/site-packages (1.85)\n",
      "Requirement already satisfied: numpy in ./anaconda3/lib/python3.11/site-packages (from biopython) (1.24.3)\n",
      "Note: you may need to restart the kernel to use updated packages.\n"
     ]
    }
   ],
   "source": [
    " pip install biopython"
   ]
  },
  {
   "cell_type": "code",
   "execution_count": 2,
   "id": "993add52",
   "metadata": {},
   "outputs": [
    {
     "name": "stdout",
     "output_type": "stream",
     "text": [
      "Sequence ID: NC_090774.1\n",
      "Sequence length: 4198534\n",
      "Number of features: 5298\n"
     ]
    }
   ],
   "source": [
    "from Bio import SeqIO\n",
    "\n",
    "# Load the FASTA file\n",
    "with open(\"/Users/macbookpro/Downloads/sequence.fasta\", \"r\") as fasta_file:\n",
    "    fasta_record = SeqIO.read(fasta_file, \"fasta\")\n",
    "    sequence = str(fasta_record.seq)  # Convert to a string\n",
    "\n",
    "# Load the GenBank file\n",
    "with open(\"/Users/macbookpro/Downloads/sequence.gb\", \"r\") as gb_file:\n",
    "    gb_record = SeqIO.read(gb_file, \"genbank\")\n",
    "\n",
    "# Print basic info\n",
    "print(\"Sequence ID:\", fasta_record.id)\n",
    "print(\"Sequence length:\", len(sequence))\n",
    "print(\"Number of features:\", len(gb_record.features))"
   ]
  },
  {
   "cell_type": "code",
   "execution_count": 3,
   "id": "c5c09672",
   "metadata": {},
   "outputs": [
    {
     "name": "stdout",
     "output_type": "stream",
     "text": [
      "Coding length: 2292132\n",
      "Noncoding length: 1906542\n"
     ]
    }
   ],
   "source": [
    "# Extract coding regions (CDS)\n",
    "coding_sequences = []\n",
    "for feature in gb_record.features:\n",
    "    if feature.type == \"CDS\":  # Look for coding sequences\n",
    "        start = feature.location.start\n",
    "        end = feature.location.end\n",
    "        coding_sequences.append(sequence[start:end])\n",
    "\n",
    "# Extract noncoding regions (everything else)\n",
    "noncoding_sequences = []\n",
    "current_start = 0\n",
    "for feature in gb_record.features:\n",
    "    if feature.type == \"CDS\":\n",
    "        noncoding_sequences.append(sequence[current_start:feature.location.start])\n",
    "        current_start = feature.location.end\n",
    "noncoding_sequences.append(sequence[current_start:])  # Add the last segment\n",
    "\n",
    "# Convert to strings\n",
    "coding_sequence = \"\".join(coding_sequences)\n",
    "noncoding_sequence = \"\".join(noncoding_sequences)\n",
    "\n",
    "# Print lengths to check\n",
    "print(\"Coding length:\", len(coding_sequence))\n",
    "print(\"Noncoding length:\", len(noncoding_sequence))"
   ]
  },
  {
   "cell_type": "code",
   "execution_count": 4,
   "id": "873e2b0c",
   "metadata": {},
   "outputs": [
    {
     "data": {
      "image/png": "[encoded data removed]",
      "text/plain": [
       "<Figure size 640x480 with 1 Axes>"
      ]
     },
     "metadata": {},
     "output_type": "display_data"
    }
   ],
   "source": [
    "from collections import Counter\n",
    "import matplotlib.pyplot as plt\n",
    "\n",
    "def zipf_analysis(sequence, n=3):\n",
    "    # Extract n-tuples\n",
    "    n_tuples = [sequence[i:i+n] for i in range(len(sequence) - n + 1)]\n",
    "    \n",
    "    # Count frequencies\n",
    "    freq = Counter(n_tuples)\n",
    "    \n",
    "    # Sort by frequency\n",
    "    sorted_freq = sorted(freq.values(), reverse=True)\n",
    "    \n",
    "    # Assign ranks\n",
    "    ranks = range(1, len(sorted_freq) + 1)\n",
    "    \n",
    "    # Plot\n",
    "    plt.loglog(ranks, sorted_freq, 'o', label=f'n={n}')\n",
    "\n",
    "# Analyze coding sequence\n",
    "zipf_analysis(coding_sequence, n=3)\n",
    "\n",
    "# Analyze noncoding sequence\n",
    "zipf_analysis(noncoding_sequence, n=3)\n",
    "\n",
    "# Add labels and legend\n",
    "plt.xlabel('Rank')\n",
    "plt.ylabel('Frequency')\n",
    "plt.title('Zipf Plot for Coding vs. Noncoding DNA')\n",
    "plt.legend()\n",
    "plt.show()"
   ]
  },
  {
   "cell_type": "code",
   "execution_count": 4,
   "id": "fbd7e724",
   "metadata": {},
   "outputs": [
    {
     "name": "stdout",
     "output_type": "stream",
     "text": [
      "Coding region:\n",
      "  Zipf exponent: 0.2938\n",
      "  Hurst exponent: 0.6773\n",
      "  Shannon entropy: 1.9976\n",
      "----------------------------------------\n",
      "Noncoding region:\n",
      "  Zipf exponent: 0.2385\n",
      "  Hurst exponent: 0.6811\n",
      "  Shannon entropy: 1.9929\n",
      "----------------------------------------\n"
     ]
    }
   ],
   "source": [
    "from Bio import SeqIO\n",
    "from collections import Counter\n",
    "import numpy as np\n",
    "import math\n",
    "from scipy.stats import linregress\n",
    "\n",
    "# === 1. Load sequences ===\n",
    "fasta_path = \"/Users/macbookpro/Downloads/sequence.fasta\"\n",
    "gb_path = \"/Users/macbookpro/Downloads/sequence.gb\"\n",
    "\n",
    "with open(fasta_path) as fasta_file:\n",
    "    fasta_record = SeqIO.read(fasta_file, \"fasta\")\n",
    "    sequence = str(fasta_record.seq)\n",
    "\n",
    "with open(gb_path) as gb_file:\n",
    "    gb_record = SeqIO.read(gb_file, \"genbank\")\n",
    "\n",
    "# === 2. Extract coding and non-coding regions ===\n",
    "coding_sequences = []\n",
    "for feature in gb_record.features:\n",
    "    if feature.type == \"CDS\":\n",
    "        start = int(feature.location.start)\n",
    "        end = int(feature.location.end)\n",
    "        coding_sequences.append(sequence[start:end])\n",
    "coding_sequence = \"\".join(coding_sequences)\n",
    "\n",
    "noncoding_sequences = []\n",
    "current_start = 0\n",
    "for feature in gb_record.features:\n",
    "    if feature.type == \"CDS\":\n",
    "        noncoding_sequences.append(sequence[current_start:int(feature.location.start)])\n",
    "        current_start = int(feature.location.end)\n",
    "noncoding_sequences.append(sequence[current_start:])\n",
    "noncoding_sequence = \"\".join(noncoding_sequences)\n",
    "\n",
    "\n",
    "# === 3. Functions for calculations ===\n",
    "def zipf_exponent(seq, n=3):\n",
    "    \"\"\"Calculates Zipf's exponent via log-log regression.\"\"\"\n",
    "    ngrams = [seq[i:i+n] for i in range(len(seq)-n+1)]\n",
    "    freq = Counter(ngrams)\n",
    "    sorted_freq = sorted(freq.values(), reverse=True)\n",
    "    ranks = np.arange(1, len(sorted_freq) + 1)\n",
    "    log_ranks = np.log(ranks)\n",
    "    log_freq = np.log(sorted_freq)\n",
    "    slope, intercept, r_value, p_value, std_err = linregress(log_ranks, log_freq)\n",
    "    return -slope  # Zipf exponent\n",
    "\n",
    "def hurst_exponent(seq):\n",
    "    \"\"\"Estimates the Hurst exponent via R/S analysis.\"\"\"\n",
    "    # Convert to binary sequence: A/T=0, G/C=1 (example mapping)\n",
    "    mapping = {'A': 0, 'T': 0, 'G': 1, 'C': 1}\n",
    "    data = np.array([mapping.get(base, 0) for base in seq])\n",
    "    N = len(data)\n",
    "    T = np.arange(10, N // 2, N // 20)  # window sizes\n",
    "    RS = []\n",
    "    for t in T:\n",
    "        chunks = N // t\n",
    "        rs_vals = []\n",
    "        for i in range(chunks):\n",
    "            segment = data[i*t:(i+1)*t]\n",
    "            mean_seg = np.mean(segment)\n",
    "            Z = np.cumsum(segment - mean_seg)\n",
    "            R = np.max(Z) - np.min(Z)\n",
    "            S = np.std(segment)\n",
    "            if S != 0:\n",
    "                rs_vals.append(R/S)\n",
    "        if rs_vals:\n",
    "            RS.append(np.mean(rs_vals))\n",
    "    slope, _, _, _, _ = linregress(np.log(T[:len(RS)]), np.log(RS))\n",
    "    return slope\n",
    "\n",
    "def shannon_entropy(seq, n=1):\n",
    "    \"\"\"Calculates Shannon entropy for n-grams.\"\"\"\n",
    "    ngrams = [seq[i:i+n] for i in range(len(seq)-n+1)]\n",
    "    freq = Counter(ngrams)\n",
    "    total = sum(freq.values())\n",
    "    probs = [count / total for count in freq.values()]\n",
    "    entropy = -sum(p * math.log2(p) for p in probs)\n",
    "    return entropy\n",
    "\n",
    "\n",
    "# === 4. Perform calculations ===\n",
    "for name, seq in [(\"Coding\", coding_sequence), (\"Noncoding\", noncoding_sequence)]:\n",
    "    z_exp = zipf_exponent(seq, n=3)\n",
    "    h_exp = hurst_exponent(seq)\n",
    "    s_ent = shannon_entropy(seq, n=1)\n",
    "    print(f\"{name} region:\")\n",
    "    print(f\"  Zipf exponent: {z_exp:.4f}\")\n",
    "    print(f\"  Hurst exponent: {h_exp:.4f}\")\n",
    "    print(f\"  Shannon entropy: {s_ent:.4f}\")\n",
    "    print(\"-\" * 40)\n"
   ]
  },
  {
   "cell_type": "code",
   "execution_count": null,
   "id": "72c6fdeb",
   "metadata": {},
   "outputs": [],
   "source": []
  }
 ],
 "metadata": {
  "kernelspec": {
   "display_name": "Python 3 (ipykernel)",
   "language": "python",
   "name": "python3"
  },
  "language_info": {
   "codemirror_mode": {
    "name": "ipython",
    "version": 3
   },
   "file_extension": ".py",
   "mimetype": "text/x-python",
   "name": "python",
   "nbconvert_exporter": "python",
   "pygments_lexer": "ipython3",
   "version": "3.11.5"
  }
 },
 "nbformat": 4,
 "nbformat_minor": 5
}
